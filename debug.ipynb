{
 "cells": [
  {
   "cell_type": "code",
   "execution_count": 1,
   "metadata": {},
   "outputs": [],
   "source": [
    "import cv2"
   ]
  },
  {
   "cell_type": "code",
   "execution_count": 7,
   "metadata": {},
   "outputs": [],
   "source": [
    "# load video path: sample_videos\\Autonomous driving lane detection sample video 1.mp4\n",
    "\n",
    "video_path = \"sample_videos\\Autonomous driving lane detection sample video 1.mp4\"\n",
    "cap = cv2.VideoCapture(video_path)\n",
    "\n",
    "\n",
    "# change image frame to gray scale\n",
    "def gray_scale(frame):\n",
    "    return cv2.cvtColor(frame, cv2.COLOR_BGR2GRAY)\n",
    "\n",
    "# apply gaussian blur to the image\n",
    "def gaussian_blur(frame):\n",
    "    return cv2.GaussianBlur(frame, (5, 5), 0)\n",
    "\n",
    "while cap.isOpened():\n",
    "    ret, frame = cap.read()\n",
    "    if not ret:\n",
    "        break\n",
    "    # convert to gray scale\n",
    "    gray = gray_scale(frame)\n",
    "\n",
    "    # apply gaussian blur\n",
    "    blur = gaussian_blur(gray)\n",
    "\n",
    "    # show the video\n",
    "    cv2.imshow('frame', blur)\n",
    "\n",
    "    # video 60 fps, wait according to fps\n",
    "    cv2.waitKey(int(1000/60))\n",
    "\n",
    "    if cv2.waitKey(1) & 0xFF == ord('q'):\n",
    "        cv2.destroyAllWindows()\n",
    "        break\n",
    "\n",
    "\n",
    "\n"
   ]
  },
  {
   "cell_type": "code",
   "execution_count": null,
   "metadata": {},
   "outputs": [],
   "source": []
  }
 ],
 "metadata": {
  "kernelspec": {
   "display_name": ".venv",
   "language": "python",
   "name": "python3"
  },
  "language_info": {
   "codemirror_mode": {
    "name": "ipython",
    "version": 3
   },
   "file_extension": ".py",
   "mimetype": "text/x-python",
   "name": "python",
   "nbconvert_exporter": "python",
   "pygments_lexer": "ipython3",
   "version": "3.11.4"
  }
 },
 "nbformat": 4,
 "nbformat_minor": 2
}
